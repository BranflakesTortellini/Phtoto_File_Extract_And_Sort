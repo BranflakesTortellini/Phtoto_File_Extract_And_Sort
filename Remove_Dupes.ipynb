{
 "cells": [
  {
   "cell_type": "code",
   "execution_count": null,
   "id": "1c90cd1e-441e-417c-9deb-24f233eebbd5",
   "metadata": {
    "tags": []
   },
   "outputs": [],
   "source": [
    "import os\n",
    "import tkinter as tk\n",
    "from tkinter import filedialog\n",
    "\n",
    "def remove_duplicates(directory):\n",
    "    file_info = {}  # Store file info (size, type) for comparison\n",
    "\n",
    "    for root, dirs, files in os.walk(directory):\n",
    "        for filename in files:\n",
    "            file_path = os.path.join(root, filename)\n",
    "\n",
    "            # Check if the file name contains the word \"copy\" or an enumeration\n",
    "            if \"copy\" in filename.lower() or filename.endswith((' (1)', ' (2)')):\n",
    "                os.remove(file_path)  # Remove the file\n",
    "            else:\n",
    "                # Get file attributes\n",
    "                file_size = os.path.getsize(file_path)\n",
    "                file_type = os.path.splitext(file_path)[1].lstrip('.')\n",
    "\n",
    "                # Check if a similar file with matching attributes already exists\n",
    "                matching_files = [\n",
    "                    fname for fname, attr in file_info.items()\n",
    "                    if attr == (file_size, file_type)\n",
    "                ]\n",
    "                if matching_files:\n",
    "                    os.remove(file_path)  # Remove the file\n",
    "                else:\n",
    "                    file_info[filename] = (file_size, file_type)\n",
    "\n",
    "    # Remove empty directories\n",
    "    for root, dirs, files in os.walk(directory, topdown=False):\n",
    "        for dirname in dirs:\n",
    "            dir_path = os.path.join(root, dirname)\n",
    "            if not os.listdir(dir_path):\n",
    "                os.rmdir(dir_path)\n",
    "\n",
    "# Create Tkinter window and hide it\n",
    "root = tk.Tk()\n",
    "root.withdraw()\n",
    "\n",
    "# Select directory using file dialog\n",
    "selected_directory = filedialog.askdirectory(title=\"Select a directory\")\n",
    "\n",
    "if selected_directory:\n",
    "    remove_duplicates(selected_directory)\n",
    "    print(\"Duplicate files and folders removed successfully, including empty folders.\")\n",
    "else:\n",
    "    print(\"No directory selected.\")\n"
   ]
  },
  {
   "cell_type": "code",
   "execution_count": null,
   "id": "53c377be-67d7-4b21-a9d6-d625abd5b732",
   "metadata": {},
   "outputs": [],
   "source": []
  }
 ],
 "metadata": {
  "kernelspec": {
   "display_name": "Python 3 (ipykernel)",
   "language": "python",
   "name": "python3"
  },
  "language_info": {
   "codemirror_mode": {
    "name": "ipython",
    "version": 3
   },
   "file_extension": ".py",
   "mimetype": "text/x-python",
   "name": "python",
   "nbconvert_exporter": "python",
   "pygments_lexer": "ipython3",
   "version": "3.9.0"
  }
 },
 "nbformat": 4,
 "nbformat_minor": 5
}
