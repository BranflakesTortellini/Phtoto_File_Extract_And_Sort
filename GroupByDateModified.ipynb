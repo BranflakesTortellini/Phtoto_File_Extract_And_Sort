{
 "cells": [
  {
   "cell_type": "code",
   "execution_count": null,
   "id": "662784e3-4957-44af-9b75-93a884eeca7e",
   "metadata": {
    "tags": []
   },
   "outputs": [],
   "source": [
    "import os\n",
    "import shutil\n",
    "import datetime\n",
    "import tkinter as tk\n",
    "from tkinter import filedialog\n",
    "\n",
    "# Create the Tkinter root window\n",
    "root = tk.Tk()\n",
    "root.withdraw()\n",
    "\n",
    "# Use the Tkinter file dialog to select the source directory\n",
    "source_directory = filedialog.askdirectory(title=\"Select Source Directory\")\n",
    "\n",
    "# Check if a directory was selected\n",
    "if not source_directory:\n",
    "    print(\"No directory selected. Exiting the script.\")\n",
    "    exit()\n",
    "\n",
    "# Create a list of all files in the source directory\n",
    "files = os.listdir(source_directory)\n",
    "\n",
    "# Create a dictionary to store files grouped by year and month\n",
    "file_groups = {}\n",
    "\n",
    "# Iterate over each file\n",
    "for file_name in files:\n",
    "    file_path = os.path.join(source_directory, file_name)\n",
    "    if os.path.isfile(file_path):\n",
    "        # Get the modification timestamp of the file\n",
    "        modification_time = os.path.getmtime(file_path)\n",
    "\n",
    "        # Convert the timestamp to a datetime object\n",
    "        modification_date = datetime.datetime.fromtimestamp(modification_time)\n",
    "\n",
    "        # Extract the year and month from the modification date\n",
    "        year = modification_date.year\n",
    "        month = modification_date.strftime(\"%B\")\n",
    "\n",
    "        # Create the folder name using year and month\n",
    "        folder_name = f\"{month} {year}\"\n",
    "\n",
    "        # Add the file to the corresponding group in the dictionary\n",
    "        if folder_name in file_groups:\n",
    "            file_groups[folder_name].append(file_name)\n",
    "        else:\n",
    "            file_groups[folder_name] = [file_name]\n",
    "\n",
    "# Iterate over each group in the dictionary\n",
    "for folder_name, file_names in file_groups.items():\n",
    "    # Create the destination folder\n",
    "    destination_directory = os.path.join(source_directory, folder_name)\n",
    "    os.makedirs(destination_directory, exist_ok=True)\n",
    "\n",
    "    # Move each file to the destination folder\n",
    "    for file_name in file_names:\n",
    "        source_path = os.path.join(source_directory, file_name)\n",
    "        destination_path = os.path.join(destination_directory, file_name)\n",
    "        shutil.move(source_path, destination_path)\n",
    "\n",
    "print(\"Files sorted and moved successfully!\")\n"
   ]
  },
  {
   "cell_type": "code",
   "execution_count": 1,
   "id": "782be5b8-86c7-445a-9c44-60e345033698",
   "metadata": {
    "tags": []
   },
   "outputs": [
    {
     "name": "stderr",
     "output_type": "stream",
     "text": [
      "Processing files: 100%|████████████████████████████████████████████████████████| 17726/17726 [00:42<00:00, 413.95file/s]\n",
      "Moving files: 100%|█████████████████████████████████████████████████████████████████| 45/45 [01:20<00:00,  1.79s/folder]"
     ]
    },
    {
     "name": "stdout",
     "output_type": "stream",
     "text": [
      "Files sorted and moved successfully!\n"
     ]
    },
    {
     "name": "stderr",
     "output_type": "stream",
     "text": [
      "\n"
     ]
    }
   ],
   "source": [
    "import os\n",
    "import shutil\n",
    "import datetime\n",
    "import tkinter as tk\n",
    "from tkinter import filedialog\n",
    "from tqdm import tqdm\n",
    "\n",
    "# Create the Tkinter root window\n",
    "root = tk.Tk()\n",
    "root.withdraw()\n",
    "\n",
    "# Use the Tkinter file dialog to select the source directory\n",
    "source_directory = filedialog.askdirectory(title=\"Select Source Directory\")\n",
    "\n",
    "# Check if a directory was selected\n",
    "if not source_directory:\n",
    "    print(\"No directory selected. Exiting the script.\")\n",
    "    exit()\n",
    "\n",
    "# Create a list of all files in the source directory\n",
    "files = os.listdir(source_directory)\n",
    "\n",
    "# Create a dictionary to store files grouped by year and month\n",
    "file_groups = {}\n",
    "\n",
    "# Iterate over each file\n",
    "for file_name in tqdm(files, desc=\"Processing files\", unit=\"file\"):\n",
    "    file_path = os.path.join(source_directory, file_name)\n",
    "    if os.path.isfile(file_path):\n",
    "        # Get the modification timestamp of the file\n",
    "        modification_time = os.path.getmtime(file_path)\n",
    "\n",
    "        # Convert the timestamp to a datetime object\n",
    "        modification_date = datetime.datetime.fromtimestamp(modification_time)\n",
    "\n",
    "        # Extract the year and month from the modification date\n",
    "        year = modification_date.year\n",
    "        month = modification_date.strftime(\"%B\")\n",
    "\n",
    "        # Create the folder name using year and month\n",
    "        folder_name = f\"{year} {month}\"\n",
    "\n",
    "        # Add the file to the corresponding group in the dictionary\n",
    "        if folder_name in file_groups:\n",
    "            file_groups[folder_name].append(file_name)\n",
    "        else:\n",
    "            file_groups[folder_name] = [file_name]\n",
    "\n",
    "# Iterate over each group in the dictionary\n",
    "for folder_name, file_names in tqdm(file_groups.items(), desc=\"Moving files\", unit=\"folder\"):\n",
    "    # Create the destination folder\n",
    "    destination_directory = os.path.join(source_directory, folder_name)\n",
    "    os.makedirs(destination_directory, exist_ok=True)\n",
    "\n",
    "    # Move each file to the destination folder\n",
    "    for file_name in file_names:\n",
    "        source_path = os.path.join(source_directory, file_name)\n",
    "        destination_path = os.path.join(destination_directory, file_name)\n",
    "        shutil.move(source_path, destination_path)\n",
    "\n",
    "print(\"Files sorted and moved successfully!\")\n"
   ]
  },
  {
   "cell_type": "code",
   "execution_count": null,
   "id": "dc39f5e9-a9f2-46a3-84e9-e5939bfe5aaa",
   "metadata": {},
   "outputs": [],
   "source": []
  }
 ],
 "metadata": {
  "kernelspec": {
   "display_name": "Python 3 (ipykernel)",
   "language": "python",
   "name": "python3"
  },
  "language_info": {
   "codemirror_mode": {
    "name": "ipython",
    "version": 3
   },
   "file_extension": ".py",
   "mimetype": "text/x-python",
   "name": "python",
   "nbconvert_exporter": "python",
   "pygments_lexer": "ipython3",
   "version": "3.9.0"
  }
 },
 "nbformat": 4,
 "nbformat_minor": 5
}
